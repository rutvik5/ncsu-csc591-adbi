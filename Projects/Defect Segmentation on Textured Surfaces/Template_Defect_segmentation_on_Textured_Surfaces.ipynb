{
  "nbformat": 4,
  "nbformat_minor": 0,
  "metadata": {
    "colab": {
      "name": "Template_Defect_segmentation_on_Textured_Surfaces.ipynb",
      "version": "0.3.2",
      "provenance": [],
      "collapsed_sections": []
    },
    "language_info": {
      "codemirror_mode": {
        "name": "ipython",
        "version": 3
      },
      "file_extension": ".py",
      "mimetype": "text/x-python",
      "name": "python",
      "nbconvert_exporter": "python",
      "pygments_lexer": "ipython3",
      "version": "3.7.1"
    },
    "kernelspec": {
      "display_name": "Python 3",
      "language": "python",
      "name": "python3"
    },
    "accelerator": "GPU"
  },
  "cells": [
    {
      "metadata": {
        "colab_type": "text",
        "id": "S-fSL1r2fQ7Z"
      },
      "cell_type": "markdown",
      "source": [
        "We will use the Industrial Optical Inspection Dataset. \n",
        "The blocks given below will help you copy and unzip the data from google drive.\n",
        "\n",
        "---\n",
        "\n",
        "\n",
        "The dataset description can be found here : https://hci.iwr.uni-heidelberg.de/node/3616"
      ]
    },
    {
      "metadata": {
        "colab_type": "text",
        "id": "DymbI5OJIuFF"
      },
      "cell_type": "markdown",
      "source": [
        "# Google Colab\n",
        "Set the Runtime to GPU from the menu on the top left of this webpage\n",
        "\n",
        "Importing data to Google Colab"
      ]
    },
    {
      "metadata": {
        "colab_type": "code",
        "id": "zDP8dGDEfHM2",
        "outputId": "c3399876-027f-4e9d-e74b-b3a1d53724d5",
        "colab": {
          "base_uri": "https://localhost:8080/",
          "height": 34
        }
      },
      "cell_type": "code",
      "source": [
        "from google.colab import drive\n",
        "drive.mount('/content/gdrive')"
      ],
      "execution_count": 1,
      "outputs": [
        {
          "output_type": "stream",
          "text": [
            "Drive already mounted at /content/gdrive; to attempt to forcibly remount, call drive.mount(\"/content/gdrive\", force_remount=True).\n"
          ],
          "name": "stdout"
        }
      ]
    },
    {
      "metadata": {
        "colab_type": "code",
        "id": "3on7wPL6mBF2",
        "outputId": "ca80d511-e09e-443f-8bff-6ebd108c1867",
        "colab": {
          "base_uri": "https://localhost:8080/",
          "height": 51
        }
      },
      "cell_type": "code",
      "source": [
        "# Copy data to google colab from google drive and unzip\n",
        "# This may take 1-2 minutes\n",
        "!cp gdrive/My\\ Drive/optical_data.zip .\n",
        "!unzip optical_data.zip"
      ],
      "execution_count": 2,
      "outputs": [
        {
          "output_type": "stream",
          "text": [
            "Archive:  optical_data.zip\n",
            "replace data/.DS_Store? [y]es, [n]o, [A]ll, [N]one, [r]ename: N\n"
          ],
          "name": "stdout"
        }
      ]
    },
    {
      "metadata": {
        "colab_type": "code",
        "id": "w_-5AVwxm7d5",
        "outputId": "d5504c99-21ce-4dae-d61b-858c4adf5e2e",
        "colab": {
          "base_uri": "https://localhost:8080/",
          "height": 34
        }
      },
      "cell_type": "code",
      "source": [
        "# You should be able to see 7 Classes here\n",
        "!ls data"
      ],
      "execution_count": 3,
      "outputs": [
        {
          "output_type": "stream",
          "text": [
            "Class1\tClass2\tClass3\tClass4\tClass5\tClass6\tClass7\n"
          ],
          "name": "stdout"
        }
      ]
    },
    {
      "metadata": {
        "colab_type": "text",
        "id": "HkvMl2Mt-BrB"
      },
      "cell_type": "markdown",
      "source": [
        "Sample Output : Class1 Class2\tClass3\tClass4\tClass5\tClass6\tClass7"
      ]
    },
    {
      "metadata": {
        "colab_type": "text",
        "id": "H-GSOCv7ImGM"
      },
      "cell_type": "markdown",
      "source": [
        "# Main Notebook"
      ]
    },
    {
      "metadata": {
        "colab_type": "code",
        "id": "2p453M9kewcU",
        "outputId": "eae60f6d-ef84-4abb-f8d4-39ea2c9e977f",
        "colab": {
          "base_uri": "https://localhost:8080/",
          "height": 34
        }
      },
      "cell_type": "code",
      "source": [
        "import os\n",
        "import sys\n",
        "import time\n",
        "import warnings\n",
        "from random import shuffle\n",
        "\n",
        "import numpy as np\n",
        "import pandas as pd\n",
        "from keras.callbacks import ModelCheckpoint, EarlyStopping\n",
        "from keras.optimizers import Adam\n",
        "from tensorflow.python.lib.io import file_io\n",
        "from skimage.transform import resize\n",
        "from sklearn.model_selection import train_test_split\n",
        "import numpy as np\n",
        "import keras\n",
        "from keras import backend as K\n",
        "import cv2\n",
        "\n",
        "warnings.filterwarnings(\"ignore\")\n"
      ],
      "execution_count": 4,
      "outputs": [
        {
          "output_type": "stream",
          "text": [
            "Using TensorFlow backend.\n"
          ],
          "name": "stderr"
        }
      ]
    },
    {
      "metadata": {
        "colab_type": "text",
        "id": "P6Rilzb2Lnhz"
      },
      "cell_type": "markdown",
      "source": [
        "# Data Loading"
      ]
    },
    {
      "metadata": {
        "colab_type": "code",
        "id": "PFUOmRq1hChy",
        "colab": {}
      },
      "cell_type": "code",
      "source": [
        "# Not all data in the dataset has defects. We only use the images which have defects\n",
        "# This function takes the dataset_type as a parameter. You can pass \"Train\" or \"Test\"\n",
        "# as argument to get the appropriate dataset\n",
        "def load_data(dataset_type=\"Test\"):\n",
        "    file_list = {}\n",
        "    defect_map = {}\n",
        "    file_name = []\n",
        "    file_mask = []\n",
        "    count = 0\n",
        "    num_classes = 6\n",
        "\n",
        "    data_dir = \"data\"\n",
        "    for x in range(1, num_classes + 1):\n",
        "        path = os.path.join(os.path.join(data_dir, \"Class\" + str(x)), dataset_type)\n",
        "        df = pd.read_fwf(path + \"/Label/Labels.txt\")\n",
        "        count = 0\n",
        "        for i in range(0, len(df)):\n",
        "            curr_file = path + \"/\" + str(df.iloc[i][2])\n",
        "            if (df.iloc[i][1] == 1):\n",
        "                file_list[curr_file] = path + \"/Label/\" + str(df.iloc[i][4])\n",
        "                defect_map[curr_file] = 1\n",
        "            else:\n",
        "                fnametest = str(df.iloc[i][2]).split(\".\")\n",
        "                file_list[curr_file] = str(path + \"/Label/\" + fnametest[0] + \"_label.PNG\")\n",
        "                defect_map[curr_file] = 0\n",
        "\n",
        "    items = list(file_list.keys())\n",
        "    shuffle(items)\n",
        "    for key in items:\n",
        "        if ((not os.path.exists(key)) or (not os.path.exists(file_list[key]))):\n",
        "            # print (\"Missing mask for \", key)\n",
        "            continue\n",
        "\n",
        "        if defect_map[key] == 1:\n",
        "            file_name.append(key)\n",
        "            file_mask.append(file_list[key])\n",
        "        elif count < 80 * num_classes:\n",
        "            file_name.append(key)\n",
        "            file_mask.append(file_list[key])\n",
        "            count = count + 1\n",
        "\n",
        "    return file_name, file_mask"
      ],
      "execution_count": 0,
      "outputs": []
    },
    {
      "metadata": {
        "colab_type": "text",
        "id": "YMvNNG8nLq1N"
      },
      "cell_type": "markdown",
      "source": [
        "Since the dataset is so large that it cannot fit into memory, we will need to use generator functions to iteratively load the dataset"
      ]
    },
    {
      "metadata": {
        "colab_type": "code",
        "id": "0AO5Je2_iyjI",
        "colab": {}
      },
      "cell_type": "code",
      "source": [
        "# This is generator class to process data in batches and send them for training\n",
        "class Surface_Generator(keras.utils.Sequence):\n",
        "\n",
        "    def __init__(self, image_filenames, labels, batch_size, test=False):\n",
        "        self.image_filenames, self.labels = image_filenames, labels\n",
        "        self.batch_size = batch_size\n",
        "\n",
        "    # return the total number of batches you have i.e., total_files/batch_size\n",
        "    def __len__(self):\n",
        "        # YOUR CODE HERE\n",
        "        return int(np.ceil(len(self.image_filenames)/ self.batch_size))\n",
        "\n",
        "    # this function is called for every mini-batch to get the images/masks for that mini-batch\n",
        "    def __getitem__(self, idx):\n",
        "        batch_x = self.image_filenames[idx * self.batch_size:(idx + 1) * self.batch_size]\n",
        "        batch_y = self.labels[idx * self.batch_size:(idx + 1) * self.batch_size]\n",
        "        image_arr = []\n",
        "        mask_arr = []\n",
        "        # Open a batch of images and their corresponding masks using cv2.imread\n",
        "        # resize them to 512x512x1 and return an np.array of images and masks\n",
        "        # YOUR CODE HERE\n",
        "        \n",
        "        for file_x in batch_x:\n",
        "          read_file = cv2.imread(file_x)\n",
        "          image_arr.append(resize(read_file, (512, 512, 1)))\n",
        "        \n",
        "        for file_y in batch_y:\n",
        "          read_file = cv2.imread(file_y)\n",
        "          mask_arr.append(resize(read_file, (512, 512, 1)))\n",
        "          \n",
        "        return np.array(image_arr).astype(np.float32), np.array(mask_arr).astype(np.float32)\n",
        "    \n",
        "    # for testing we need to get the list of all true masks\n",
        "    # this function should return all the labels in the dataset set \n",
        "    # we will call this function only for the \"Test\" dataset\n",
        "    def get_all_masks(self):\n",
        "        mask_arr = []\n",
        "        \n",
        "        # YOUR CODE HERE\n",
        "        \n",
        "        for lbl in self.labels:\n",
        "          read_file = cv2.imread(lbl)\n",
        "          mask_arr.append(resize(read_file, (512, 512, 1)))\n",
        "        \n",
        "        return np.array(mask_arr).astype(np.float32)\n"
      ],
      "execution_count": 0,
      "outputs": []
    },
    {
      "metadata": {
        "colab_type": "code",
        "id": "dt-r8DWtiXb8",
        "colab": {}
      },
      "cell_type": "code",
      "source": [
        "# Since we already have a split for training and test set,\n",
        "# we just need to split training set to get a validation set\n",
        "\n",
        "# Load training data\n",
        "X, Y = load_data(\"Train\")"
      ],
      "execution_count": 0,
      "outputs": []
    },
    {
      "metadata": {
        "colab_type": "code",
        "id": "yCCf5m26iZ4-",
        "outputId": "dc2c7ea6-34ee-4ca7-abc4-d4dea7a06477",
        "colab": {
          "base_uri": "https://localhost:8080/",
          "height": 34
        }
      },
      "cell_type": "code",
      "source": [
        "# Split the original training data to get training and validation set\n",
        "# to get X_train, X_val, y_train, y_val\n",
        "# YOUR CODE HERE\n",
        "X_train, X_val, y_train, y_val = train_test_split(X, Y, test_size=0.2)\n",
        "\n",
        "# Convert to numpy arrays\n",
        "# YOUR CODE HERE\n",
        "X_train = np.array(X_train)\n",
        "X_val = np.array(X_val)\n",
        "y_train = np.array(y_train)\n",
        "y_val = np.array(y_val)\n",
        "\n",
        "print(X_train.shape, y_train.shape, X_val.shape, y_val.shape)"
      ],
      "execution_count": 8,
      "outputs": [
        {
          "output_type": "stream",
          "text": [
            "(740,) (740,) (186,) (186,)\n"
          ],
          "name": "stdout"
        }
      ]
    },
    {
      "metadata": {
        "colab_type": "text",
        "id": "pzVG7OlIKzPC"
      },
      "cell_type": "markdown",
      "source": [
        "The output shape after the split should be \n",
        "(740,) (740,) (186,) (186,)"
      ]
    },
    {
      "metadata": {
        "colab_type": "code",
        "id": "TuWAS7_Qt7xw",
        "outputId": "733e8447-c9a8-4837-90a6-f72dfc9a7a62",
        "colab": {
          "base_uri": "https://localhost:8080/",
          "height": 34
        }
      },
      "cell_type": "code",
      "source": [
        "# Free memory\n",
        "import gc\n",
        "del X\n",
        "del Y\n",
        "gc.collect()"
      ],
      "execution_count": 9,
      "outputs": [
        {
          "output_type": "execute_result",
          "data": {
            "text/plain": [
              "218"
            ]
          },
          "metadata": {
            "tags": []
          },
          "execution_count": 9
        }
      ]
    },
    {
      "metadata": {
        "colab_type": "text",
        "id": "Pg95L-qULPUY"
      },
      "cell_type": "markdown",
      "source": [
        "# Metrics\n",
        "\n",
        "Use keras.backend to calculate dice coefficient metric and dice coefficient loss function.\n",
        "\n",
        "Recall that dice_coeff = 2 \\* intersection / union\n",
        "\n",
        "We add a smoothing parameter and modify the formula to\n",
        "\n",
        "dice_coeff = 2 \\* (intersection + smooth) / (union + smooth)\n",
        "\n",
        "Our objective is to make dice_coeff as close to 1.0 as possible. \n",
        "Define and use the appropriate loss function."
      ]
    },
    {
      "metadata": {
        "colab_type": "code",
        "id": "JwdFSKS-jB8S",
        "colab": {}
      },
      "cell_type": "code",
      "source": [
        "# Dice Coefficient metric\n",
        "def dice_coef(y_true, y_pred):\n",
        "    smooth = 1\n",
        "    # YOUR CODE HERE\n",
        "    flattened_y_true = K.flatten(y_true)\n",
        "    flattened_y_pred = K.flatten(y_pred)\n",
        "    intersection =  K.sum(K.abs(flattened_y_true * flattened_y_pred), axis=-1)\n",
        "    union = K.sum(K.square(flattened_y_true),-1) + K.sum(K.square(flattened_y_pred),-1)\n",
        "    return (2. * intersection + smooth) / (union + smooth)\n",
        "\n",
        "# Dice Coefficient loss\n",
        "def dice_coef_loss(y_true, y_pred):\n",
        "    # YOUR CODE HERE\n",
        "    return 1 - dice_coef(y_true, y_pred)"
      ],
      "execution_count": 0,
      "outputs": []
    },
    {
      "metadata": {
        "colab_type": "text",
        "id": "Pynq8QkQMQfV"
      },
      "cell_type": "markdown",
      "source": [
        "# Model\n",
        "\n",
        "U-net architeture has proved to be very powerful for segmentation tasks.\n",
        "\n",
        "We will be creating a Unet model based on the paper : \n",
        "\n",
        "[U-Net: Convolutional Networks for Biomedical Image Segmentation](https://arxiv.org/pdf/1505.04597.pdf)\n",
        "\n",
        "---\n",
        "\n",
        "A picture of the architecture we plan to use is provided in the project description pdf.\n",
        "\n",
        "We will create a Convolutional block module to help us build the model.\n",
        "\n",
        "Each convolutional block module will contain two trainable layers. \n",
        "\n",
        "Each layer will be a Convolution operation followed by batch normalization with relu activation.\n",
        "\n",
        "\n",
        "\n",
        "The U-net architecture has a contracting path, a convolution and then an expansive path.\n",
        "\n",
        "We will use instances of the convolutional block to create the contracting and expansive path."
      ]
    },
    {
      "metadata": {
        "colab_type": "code",
        "id": "NmHn08ChjWNq",
        "colab": {}
      },
      "cell_type": "code",
      "source": [
        "from keras.layers import Conv2DTranspose, Dropout, Activation, BatchNormalization, UpSampling2D, Concatenate\n",
        "from keras.layers import Input, Conv2D, MaxPooling2D, concatenate\n",
        "from keras.models import Model\n",
        "\n",
        "# Create a 2D convolution block. We will use multiple instances of this block to build our U-net model\n",
        "# This block will contain two layers. \n",
        "# Each layer will be a Convolution operation followed by batch normalization with relu activation \n",
        "def conv2d_block(input_tensor, n_filters, kernel_size):\n",
        "    # first layer\n",
        "    # Create a Conv2D layer with n_filters and a kernel of dimension : kernel_size x kernel_size. \n",
        "    # Use same padding and he_normal initializer\n",
        "    # YOUR CODE HERE\n",
        "    x = Conv2D(n_filters, (kernel_size, kernel_size), kernel_initializer=\"he_normal\",padding=\"same\")(input_tensor)\n",
        "    \n",
        "    # add a BatchNormalization layer\n",
        "    # YOUR CODE HERE\n",
        "    x = BatchNormalization()(x)\n",
        "        \n",
        "    # Add a relu non-linearity (keras.layers.Activation)\n",
        "    # YOUR CODE HERE\n",
        "    x = keras.layers.Activation(\"relu\")(x)\n",
        "    \n",
        "    # second layer\n",
        "    # repeat the above steps (Conv + batchnorm + relu) taking the output of relu layer as input for this convolutional layer\n",
        "    # YOUR CODE HERE\n",
        "    x = Conv2D(n_filters, (kernel_size, kernel_size), kernel_initializer=\"he_normal\",padding=\"same\")(x)\n",
        "    x = BatchNormalization()(x)\n",
        "    x = keras.layers.Activation(\"relu\")(x)\n",
        "    \n",
        "    # return the output tensor\n",
        "    return x\n",
        "\n",
        "\n",
        "def get_unet_model(n_filters=16, dropout_prob=0.5, kernel_size=3):\n",
        "    input_img = Input((512, 512, 1))\n",
        "    \n",
        "    # contracting path\n",
        "    # create a convolutional block with input_img as the input tensor and n_filters\n",
        "    # YOUR CODE HERE\n",
        "    c1 = conv2d_block(input_img, n_filters, kernel_size)\n",
        "\n",
        "    # apply a 2d maxpooling with a pool size of 2x2\n",
        "    # YOUR CODE HERE\n",
        "    p1 = MaxPooling2D((2, 2))(c1)\n",
        "\n",
        "    # add a dropout. Since this the input, set the dropout rate to 0.5 * dropout_prob\n",
        "    # YOUR CODE HERE\n",
        "    p1 = Dropout(0.5 * dropout_prob)(p1)\n",
        "\n",
        "\n",
        "    # create another convolutional block. this time use p1 as input tensor and twice the n_filters\n",
        "    # repeat the same maxpool and dropout but set dropout rate to dropout_prob this time\n",
        "    # YOUR CODE HERE\n",
        "    c2 = conv2d_block(p1, n_filters * 2, kernel_size)\n",
        "    p2 = MaxPooling2D((2, 2))(c2)\n",
        "    p2 = Dropout(dropout_prob)(p2)\n",
        "\n",
        "    # create another block with maxpool and dropout with 4 x n_filters\n",
        "    # YOUR CODE HERE\n",
        "    c3 = conv2d_block(p2, n_filters * 4, kernel_size)\n",
        "    p3 = MaxPooling2D((2, 2))(c3)\n",
        "    p3 = Dropout(dropout_prob)(p3)\n",
        "\n",
        "    # create another block with maxpool and dropout with 8 x n_filters\n",
        "    # YOUR CODE HERE\n",
        "    c4 = conv2d_block(p3, n_filters * 8, kernel_size)\n",
        "    p4 = MaxPooling2D((2, 2))(c4)\n",
        "    p4 = Dropout(dropout_prob)(p4)\n",
        "\n",
        "    # This is the layer where we combine the contractive and expansive paths\n",
        "    # create a convolutional block with 16 x n_filters. No pooling/dropout this time\n",
        "    # YOUR CODE HERE\n",
        "    c5 = conv2d_block(p4, n_filters * 16, kernel_size)\n",
        "\n",
        "    \n",
        "    # Expansive path\n",
        "\n",
        "    # We will create a similar structure as the contracting path but instead of \n",
        "    # convolutional operation, we will use Deconvolution operations\n",
        "\n",
        "    # Create a Conv2DTranspose layer (deconvolution) with 8 x n_filters, kernel_size, \n",
        "    # 2x2 strides and same padding\n",
        "    # YOUR CODE HERE\n",
        "    u6 = Conv2DTranspose(n_filters*8, (kernel_size, kernel_size), strides=(2, 2), padding='same')(c5)\n",
        "\n",
        "    # Concatenate u6 and c4 using keras.layers.concatenate\n",
        "    # YOUR CODE HERE\n",
        "    u6 = keras.layers.concatenate([u6, c4])\n",
        "    \n",
        "    # dropout\n",
        "    # YOUR CODE HERE\n",
        "    u6 = Dropout(dropout_prob)(u6)\n",
        "    \n",
        "    # create a convolutional block with 8 x n_filters\n",
        "    # YOUR CODE HERE\n",
        "    c6 = conv2d_block(u6, n_filters * 8, kernel_size)\n",
        "    \n",
        "\n",
        "    # Create a similar module as previous, deconv, concatenate, dropout, conv2d_block\n",
        "    # Please ensure that the number of filters you use match the n_filters of \n",
        "    # the layer you are concatenating with\n",
        "    # YOUR CODE HERE\n",
        "    u7 = Conv2DTranspose(n_filters * 4, (kernel_size, kernel_size), strides=(2, 2), padding='same')(c6)\n",
        "    u7 = keras.layers.concatenate([u7, c3])\n",
        "    u7 = Dropout(dropout_prob)(u7)\n",
        "    c7 = conv2d_block(u7, n_filters * 4, kernel_size)\n",
        "    \n",
        "    # Create a similar module as previous, deconv, concatenate, dropout, conv2d_block\n",
        "    # YOUR CODE HERE\n",
        "    u8 = Conv2DTranspose(n_filters * 2, (kernel_size, kernel_size), strides=(2, 2), padding='same')(c7)\n",
        "    u8 = keras.layers.concatenate([u8, c2])\n",
        "    u8 = Dropout(dropout_prob)(u8)\n",
        "    c8 = conv2d_block(u8, n_filters * 2, kernel_size)\n",
        "\n",
        "\n",
        "    # Create a similar module as previous, deconv, concatenate, dropout, conv2d_block\n",
        "    # YOUR CODE HERE\n",
        "    u9 = Conv2DTranspose(n_filters, (kernel_size, kernel_size), strides=(2, 2), padding='same')(c8)\n",
        "    u9 = keras.layers.concatenate([u9, c1])\n",
        "    u9 = Dropout(dropout_prob)(u9)\n",
        "    c9 = conv2d_block(u9, n_filters, kernel_size)\n",
        "    \n",
        "    # apply a 1x1 convolution on c9 to get an output with a single channel\n",
        "    # This is the final model output. We want the pixel values in the mask to be\n",
        "    # either 0 or 1. Choose an activation function which can give values in that\n",
        "    # range.\n",
        "    # YOUR CODE HERE\n",
        "    outputs = Conv2D(1, (1, 1), activation='sigmoid')(c9)\n",
        "\n",
        "    model = Model(inputs=[input_img], outputs=[outputs])\n",
        "\n",
        "    return model"
      ],
      "execution_count": 0,
      "outputs": []
    },
    {
      "metadata": {
        "colab_type": "code",
        "id": "9JBg48_qiQ_R",
        "outputId": "f507287a-3f18-4a0b-efc5-305a536f67f7",
        "colab": {
          "base_uri": "https://localhost:8080/",
          "height": 139
        }
      },
      "cell_type": "code",
      "source": [
        "model_name = \"unet\"\n",
        "model = get_unet_model()"
      ],
      "execution_count": 12,
      "outputs": [
        {
          "output_type": "stream",
          "text": [
            "WARNING:tensorflow:From /usr/local/lib/python3.6/dist-packages/tensorflow/python/framework/op_def_library.py:263: colocate_with (from tensorflow.python.framework.ops) is deprecated and will be removed in a future version.\n",
            "Instructions for updating:\n",
            "Colocations handled automatically by placer.\n",
            "WARNING:tensorflow:From /usr/local/lib/python3.6/dist-packages/keras/backend/tensorflow_backend.py:3445: calling dropout (from tensorflow.python.ops.nn_ops) with keep_prob is deprecated and will be removed in a future version.\n",
            "Instructions for updating:\n",
            "Please use `rate` instead of `keep_prob`. Rate should be set to `rate = 1 - keep_prob`.\n"
          ],
          "name": "stdout"
        }
      ]
    },
    {
      "metadata": {
        "colab_type": "code",
        "id": "motKXf_TiUKg",
        "colab": {}
      },
      "cell_type": "code",
      "source": [
        "batch_size = 8\n",
        "num_epochs = 50\n",
        "# Compile the model\n",
        "model.compile(loss=dice_coef_loss, optimizer=Adam(lr=0.0055), metrics=[dice_coef])"
      ],
      "execution_count": 0,
      "outputs": []
    },
    {
      "metadata": {
        "colab_type": "code",
        "id": "ewQjQjWyqq-e",
        "colab": {}
      },
      "cell_type": "code",
      "source": [
        "# Create generator objects for training and validation\n",
        "num_training_samples = len(X_train)\n",
        "num_validation_samples = len(X_val)\n",
        "# YOUR CODE HERE\n",
        "training_batch_generator = Surface_Generator(X_train, y_train, batch_size)\n",
        "validation_batch_generator = Surface_Generator(X_val, y_val, batch_size)"
      ],
      "execution_count": 0,
      "outputs": []
    },
    {
      "metadata": {
        "colab_type": "code",
        "id": "_otO9PPuq2ED",
        "colab": {}
      },
      "cell_type": "code",
      "source": [
        "# OPTIONAL\n",
        "# callbacks for saving models and early stopping\n",
        "checkpointer = ModelCheckpoint(model_name + \"/weights.{epoch:02d}-{val_loss:.2f}.hdf5\", monitor=dice_coef, verbose=1,\n",
        "                               save_best_only=True, mode='max')\n",
        "early_stopping = EarlyStopping(monitor='val_loss', min_delta=0, patience=10, verbose=1, mode='auto')"
      ],
      "execution_count": 0,
      "outputs": []
    },
    {
      "metadata": {
        "colab_type": "code",
        "id": "63cNn_B6q4fb",
        "outputId": "81184343-c097-407c-c6c7-d38c0976c794",
        "colab": {
          "base_uri": "https://localhost:8080/",
          "height": 1822
        }
      },
      "cell_type": "code",
      "source": [
        "# Fit model\n",
        "# This will take ~1.5-2 minutes per epoch on a GPU\n",
        "stmillis = int(round(time.time() * 1000))\n",
        "history = model.fit_generator(generator=training_batch_generator,\n",
        "                    steps_per_epoch=(num_training_samples // batch_size),\n",
        "                    epochs=num_epochs,\n",
        "                    verbose=1,\n",
        "                    validation_data=validation_batch_generator,\n",
        "                    validation_steps=(num_validation_samples // batch_size),\n",
        "                    use_multiprocessing=True,\n",
        "                    workers=5,\n",
        "                    max_queue_size=1,\n",
        "                    callbacks=[checkpointer, early_stopping])\n",
        "endmillis = int(round(time.time() * 1000))\n",
        "print(\"Time taken: \", endmillis - stmillis)"
      ],
      "execution_count": 16,
      "outputs": [
        {
          "output_type": "stream",
          "text": [
            "WARNING:tensorflow:From /usr/local/lib/python3.6/dist-packages/tensorflow/python/ops/math_ops.py:3066: to_int32 (from tensorflow.python.ops.math_ops) is deprecated and will be removed in a future version.\n",
            "Instructions for updating:\n",
            "Use tf.cast instead.\n",
            "Epoch 1/50\n",
            "92/92 [==============================] - 116s 1s/step - loss: 0.8035 - dice_coef: 0.1965 - val_loss: 0.9575 - val_dice_coef: 0.0425\n",
            "Epoch 2/50\n",
            "92/92 [==============================] - 100s 1s/step - loss: 0.6542 - dice_coef: 0.3458 - val_loss: 0.9624 - val_dice_coef: 0.0376\n",
            "Epoch 3/50\n",
            "92/92 [==============================] - 98s 1s/step - loss: 0.6447 - dice_coef: 0.3553 - val_loss: 0.9052 - val_dice_coef: 0.0948\n",
            "Epoch 4/50\n",
            "92/92 [==============================] - 99s 1s/step - loss: 0.5994 - dice_coef: 0.4006 - val_loss: 0.6119 - val_dice_coef: 0.3881\n",
            "Epoch 5/50\n",
            "92/92 [==============================] - 99s 1s/step - loss: 0.6489 - dice_coef: 0.3511 - val_loss: 0.9500 - val_dice_coef: 0.0500\n",
            "Epoch 6/50\n",
            "92/92 [==============================] - 99s 1s/step - loss: 0.6140 - dice_coef: 0.3860 - val_loss: 0.7398 - val_dice_coef: 0.2602\n",
            "Epoch 7/50\n",
            "92/92 [==============================] - 98s 1s/step - loss: 0.6267 - dice_coef: 0.3733 - val_loss: 0.9140 - val_dice_coef: 0.0860\n",
            "Epoch 8/50\n",
            "92/92 [==============================] - 99s 1s/step - loss: 0.5841 - dice_coef: 0.4159 - val_loss: 0.7323 - val_dice_coef: 0.2677\n",
            "Epoch 9/50\n",
            "92/92 [==============================] - 99s 1s/step - loss: 0.6208 - dice_coef: 0.3792 - val_loss: 0.8050 - val_dice_coef: 0.1950\n",
            "Epoch 10/50\n",
            "92/92 [==============================] - 98s 1s/step - loss: 0.5799 - dice_coef: 0.4201 - val_loss: 0.8640 - val_dice_coef: 0.1360\n",
            "Epoch 11/50\n",
            "92/92 [==============================] - 99s 1s/step - loss: 0.6136 - dice_coef: 0.3864 - val_loss: 0.8807 - val_dice_coef: 0.1193\n",
            "Epoch 12/50\n",
            "92/92 [==============================] - 98s 1s/step - loss: 0.6005 - dice_coef: 0.3995 - val_loss: 0.6107 - val_dice_coef: 0.3893\n",
            "Epoch 13/50\n",
            "92/92 [==============================] - 99s 1s/step - loss: 0.5856 - dice_coef: 0.4144 - val_loss: 0.5909 - val_dice_coef: 0.4091\n",
            "Epoch 14/50\n",
            "92/92 [==============================] - 98s 1s/step - loss: 0.6075 - dice_coef: 0.3925 - val_loss: 0.9362 - val_dice_coef: 0.0638\n",
            "Epoch 15/50\n",
            "92/92 [==============================] - 98s 1s/step - loss: 0.5907 - dice_coef: 0.4093 - val_loss: 0.8975 - val_dice_coef: 0.1025\n",
            "Epoch 16/50\n",
            "92/92 [==============================] - 99s 1s/step - loss: 0.5451 - dice_coef: 0.4549 - val_loss: 0.8478 - val_dice_coef: 0.1522\n",
            "Epoch 17/50\n",
            "92/92 [==============================] - 99s 1s/step - loss: 0.4849 - dice_coef: 0.5151 - val_loss: 0.8530 - val_dice_coef: 0.1470\n",
            "Epoch 18/50\n",
            "92/92 [==============================] - 98s 1s/step - loss: 0.4868 - dice_coef: 0.5132 - val_loss: 0.8488 - val_dice_coef: 0.1512\n",
            "Epoch 19/50\n",
            "92/92 [==============================] - 98s 1s/step - loss: 0.4667 - dice_coef: 0.5333 - val_loss: 0.5312 - val_dice_coef: 0.4688\n",
            "Epoch 20/50\n",
            "92/92 [==============================] - 99s 1s/step - loss: 0.4440 - dice_coef: 0.5560 - val_loss: 0.5184 - val_dice_coef: 0.4816\n",
            "Epoch 21/50\n",
            "92/92 [==============================] - 98s 1s/step - loss: 0.4552 - dice_coef: 0.5448 - val_loss: 0.5318 - val_dice_coef: 0.4682\n",
            "Epoch 22/50\n",
            "92/92 [==============================] - 99s 1s/step - loss: 0.4338 - dice_coef: 0.5662 - val_loss: 0.8642 - val_dice_coef: 0.1358\n",
            "Epoch 23/50\n",
            "92/92 [==============================] - 99s 1s/step - loss: 0.4408 - dice_coef: 0.5592 - val_loss: 0.7556 - val_dice_coef: 0.2444\n",
            "Epoch 24/50\n",
            "92/92 [==============================] - 97s 1s/step - loss: 0.4522 - dice_coef: 0.5478 - val_loss: 0.6627 - val_dice_coef: 0.3373\n",
            "Epoch 25/50\n",
            "92/92 [==============================] - 99s 1s/step - loss: 0.4186 - dice_coef: 0.5814 - val_loss: 0.7783 - val_dice_coef: 0.2217\n",
            "Epoch 26/50\n",
            "91/92 [============================>.] - ETA: 0s - loss: 0.4371 - dice_coef: 0.5629\n",
            "92/92 [==============================] - 99s 1s/step - loss: 0.4360 - dice_coef: 0.5640 - val_loss: 0.6535 - val_dice_coef: 0.3465\n",
            "Epoch 27/50\n",
            "92/92 [==============================] - 98s 1s/step - loss: 0.4550 - dice_coef: 0.5450 - val_loss: 0.5285 - val_dice_coef: 0.4715\n",
            "Epoch 28/50\n",
            "92/92 [==============================] - 98s 1s/step - loss: 0.4459 - dice_coef: 0.5541 - val_loss: 0.5035 - val_dice_coef: 0.4965\n",
            "Epoch 29/50\n",
            "92/92 [==============================] - 99s 1s/step - loss: 0.3896 - dice_coef: 0.6104 - val_loss: 0.5184 - val_dice_coef: 0.4816\n",
            "Epoch 30/50\n",
            "92/92 [==============================] - 99s 1s/step - loss: 0.4380 - dice_coef: 0.5620 - val_loss: 0.7439 - val_dice_coef: 0.2561\n",
            "Epoch 31/50\n",
            "92/92 [==============================] - 99s 1s/step - loss: 0.4229 - dice_coef: 0.5771 - val_loss: 0.5187 - val_dice_coef: 0.4813\n",
            "Epoch 32/50\n",
            "92/92 [==============================] - 98s 1s/step - loss: 0.4251 - dice_coef: 0.5749 - val_loss: 0.6104 - val_dice_coef: 0.3896\n",
            "Epoch 33/50\n",
            "92/92 [==============================] - 99s 1s/step - loss: 0.4305 - dice_coef: 0.5695 - val_loss: 0.5093 - val_dice_coef: 0.4907\n",
            "Epoch 34/50\n",
            "92/92 [==============================] - 98s 1s/step - loss: 0.4072 - dice_coef: 0.5928 - val_loss: 0.4374 - val_dice_coef: 0.5626\n",
            "Epoch 35/50\n",
            "92/92 [==============================] - 99s 1s/step - loss: 0.4036 - dice_coef: 0.5964 - val_loss: 0.8832 - val_dice_coef: 0.1168\n",
            "Epoch 36/50\n",
            "92/92 [==============================] - 99s 1s/step - loss: 0.4590 - dice_coef: 0.5410 - val_loss: 0.8488 - val_dice_coef: 0.1512\n",
            "Epoch 37/50\n",
            "92/92 [==============================] - 97s 1s/step - loss: 0.4034 - dice_coef: 0.5966 - val_loss: 0.4021 - val_dice_coef: 0.5979\n",
            "Epoch 38/50\n",
            "92/92 [==============================] - 98s 1s/step - loss: 0.3905 - dice_coef: 0.6095 - val_loss: 0.3973 - val_dice_coef: 0.6027\n",
            "Epoch 39/50\n",
            "92/92 [==============================] - 98s 1s/step - loss: 0.3742 - dice_coef: 0.6258 - val_loss: 0.7169 - val_dice_coef: 0.2831\n",
            "Epoch 40/50\n",
            "92/92 [==============================] - 98s 1s/step - loss: 0.3794 - dice_coef: 0.6206 - val_loss: 0.5930 - val_dice_coef: 0.4070\n",
            "Epoch 41/50\n",
            "92/92 [==============================] - 99s 1s/step - loss: 0.3457 - dice_coef: 0.6543 - val_loss: 0.5571 - val_dice_coef: 0.4429\n",
            "Epoch 42/50\n",
            "92/92 [==============================] - 98s 1s/step - loss: 0.3723 - dice_coef: 0.6277 - val_loss: 0.4703 - val_dice_coef: 0.5297\n",
            "Epoch 43/50\n",
            "92/92 [==============================] - 99s 1s/step - loss: 0.3471 - dice_coef: 0.6529 - val_loss: 0.4511 - val_dice_coef: 0.5489\n",
            "Epoch 44/50\n",
            "92/92 [==============================] - 100s 1s/step - loss: 0.3339 - dice_coef: 0.6661 - val_loss: 0.5270 - val_dice_coef: 0.4730\n",
            "Epoch 45/50\n",
            "92/92 [==============================] - 98s 1s/step - loss: 0.3839 - dice_coef: 0.6161 - val_loss: 0.5185 - val_dice_coef: 0.4815\n",
            "Epoch 46/50\n",
            "92/92 [==============================] - 99s 1s/step - loss: 0.3121 - dice_coef: 0.6879 - val_loss: 0.4095 - val_dice_coef: 0.5905\n",
            "Epoch 47/50\n",
            "92/92 [==============================] - 100s 1s/step - loss: 0.3492 - dice_coef: 0.6508 - val_loss: 0.3771 - val_dice_coef: 0.6229\n",
            "Epoch 48/50\n",
            "92/92 [==============================] - 97s 1s/step - loss: 0.3599 - dice_coef: 0.6401 - val_loss: 0.3774 - val_dice_coef: 0.6226\n",
            "Epoch 49/50\n",
            "92/92 [==============================] - 99s 1s/step - loss: 0.3194 - dice_coef: 0.6806 - val_loss: 0.4055 - val_dice_coef: 0.5945\n",
            "Epoch 50/50\n",
            "92/92 [==============================] - 100s 1s/step - loss: 0.3872 - dice_coef: 0.6128 - val_loss: 0.5213 - val_dice_coef: 0.4787\n",
            "Time taken:  4947876\n"
          ],
          "name": "stdout"
        }
      ]
    },
    {
      "metadata": {
        "colab_type": "code",
        "id": "3brG4OSvidg-",
        "colab": {}
      },
      "cell_type": "code",
      "source": [
        "# Save the trained weights\n",
        "model.save(model_name + \".h5\")\n",
        "\n",
        "# Save model config as json\n",
        "model_json = model.to_json()\n",
        "with open(model_name + \".json\", \"w\") as json_file:\n",
        "    json_file.write(model_json)\n",
        "\n",
        "# Persist the model to your google drive [VERY IMPORTANT]\n",
        "!cp unet.* gdrive/My\\ Drive/"
      ],
      "execution_count": 0,
      "outputs": []
    },
    {
      "metadata": {
        "colab_type": "code",
        "id": "gyQIv8vP-Bvr",
        "outputId": "4f9196ca-bb9c-4f11-828d-1f8f73a23d14",
        "colab": {
          "base_uri": "https://localhost:8080/",
          "height": 51
        }
      },
      "cell_type": "code",
      "source": [
        "# Confirm if model did get saved\n",
        "!ls -ltr gdrive/My\\ Drive/unet*"
      ],
      "execution_count": 18,
      "outputs": [
        {
          "output_type": "stream",
          "text": [
            "-rw------- 1 root root    33712 Apr 15 01:08 'gdrive/My Drive/unet.json'\n",
            "-rw------- 1 root root 26259744 Apr 15 01:08 'gdrive/My Drive/unet.h5'\n"
          ],
          "name": "stdout"
        }
      ]
    },
    {
      "metadata": {
        "colab_type": "code",
        "id": "oXpPThkeAp30",
        "colab": {}
      },
      "cell_type": "code",
      "source": [
        "# In case you wish to load your saved model\n",
        "!cp gdrive/My\\ Drive/unet* .\n",
        "\n",
        "model.load_weights(\"unet.h5\")"
      ],
      "execution_count": 0,
      "outputs": []
    },
    {
      "metadata": {
        "colab_type": "code",
        "id": "hfVKLvOSinhR",
        "outputId": "8a3ff17f-02f0-40d4-f397-41aa19236a77",
        "colab": {
          "base_uri": "https://localhost:8080/",
          "height": 34
        }
      },
      "cell_type": "code",
      "source": [
        "import gc\n",
        "gc.collect()\n",
        "\n",
        "# Load test data in X_test and y_test\n",
        "# YOUR CODE HERE\n",
        "X_test, y_test = load_data(\"Test\")\n",
        "X_test = np.array(X_test)\n",
        "y_test = np.array(y_test)\n",
        "print (X_test.shape, y_test.shape)"
      ],
      "execution_count": 20,
      "outputs": [
        {
          "output_type": "stream",
          "text": [
            "(454,) (454,)\n"
          ],
          "name": "stdout"
        }
      ]
    },
    {
      "metadata": {
        "colab_type": "text",
        "id": "T6Z-UydF9wFR"
      },
      "cell_type": "markdown",
      "source": [
        "Output shape should be (454,) (454,)"
      ]
    },
    {
      "metadata": {
        "colab_type": "text",
        "id": "xDvVIz7eVDeJ"
      },
      "cell_type": "markdown",
      "source": [
        "[OPTIONAL] Shuffle and select 25 elements for quick testing\n"
      ]
    },
    {
      "metadata": {
        "colab_type": "code",
        "id": "JW2AcXfX4ok1",
        "colab": {}
      },
      "cell_type": "code",
      "source": [
        "np.random.seed = 629\n",
        "p = np.random.permutation(len(X_test))\n",
        "X_test = X_test[p]\n",
        "y_test = y_test[p]\n",
        "\n",
        "# X_test = X_test[:25]\n",
        "# y_test = y_test[:25]"
      ],
      "execution_count": 0,
      "outputs": []
    },
    {
      "metadata": {
        "colab_type": "code",
        "id": "WUDhmrOnzd1J",
        "colab": {}
      },
      "cell_type": "code",
      "source": [
        "# Predict using model.predict_generator().\n",
        "# YOUR CODE HERE\n",
        "test_data_generator = Surface_Generator(X_test, y_test, batch_size, test = True)\n",
        "y_pred = model.predict_generator(test_data_generator)"
      ],
      "execution_count": 0,
      "outputs": []
    },
    {
      "metadata": {
        "colab_type": "code",
        "id": "y2yJe5T40aws",
        "outputId": "e00d5dfb-c947-4bba-9534-0e1e7b00534a",
        "colab": {
          "base_uri": "https://localhost:8080/",
          "height": 34
        }
      },
      "cell_type": "code",
      "source": [
        "# y_true will have the true masks\n",
        "y_true = test_data_generator.get_all_masks()\n",
        "print (\"Dice coefficient on test data: \", K.get_value(dice_coef(y_true, y_pred)))"
      ],
      "execution_count": 23,
      "outputs": [
        {
          "output_type": "stream",
          "text": [
            "Dice coefficient on test data:  0.5881836\n"
          ],
          "name": "stdout"
        }
      ]
    },
    {
      "metadata": {
        "colab_type": "text",
        "id": "rq51uM6fUoo8"
      },
      "cell_type": "markdown",
      "source": [
        "The dice coefficient on test data should be close to 0.7\n",
        "\n"
      ]
    },
    {
      "metadata": {
        "colab_type": "text",
        "id": "TVuJ6cCTfeXB"
      },
      "cell_type": "markdown",
      "source": [
        "Visulaizing the mask for a random image"
      ]
    },
    {
      "metadata": {
        "colab_type": "code",
        "id": "kn447ZCDfAUd",
        "colab": {}
      },
      "cell_type": "code",
      "source": [
        "# Convert sigmoid outputs to binary class labels\n",
        "y_pred[20][y_pred[20] >= 0.5] = 1\n",
        "y_pred[20][y_pred[20] < 0.5] = 0"
      ],
      "execution_count": 0,
      "outputs": []
    },
    {
      "metadata": {
        "colab_type": "code",
        "id": "HmUZiALBJcie",
        "outputId": "5140887f-9f2b-42fd-9887-75e4a6558232",
        "colab": {
          "base_uri": "https://localhost:8080/",
          "height": 269
        }
      },
      "cell_type": "code",
      "source": [
        "import matplotlib.pyplot as plt\n",
        "plt.imshow(y_true[20][:,:,0], cmap='gray')\n",
        "plt.show()"
      ],
      "execution_count": 25,
      "outputs": [
        {
          "output_type": "display_data",
          "data": {
            "image/png": "[encoded data removed]",
            "text/plain": [
              "<Figure size 432x288 with 1 Axes>"
            ]
          },
          "metadata": {
            "tags": []
          }
        }
      ]
    },
    {
      "metadata": {
        "colab_type": "code",
        "id": "pn5Fkv9-JDiX",
        "outputId": "b132bab1-01b7-4ca7-eee8-efb878e752f1",
        "colab": {
          "base_uri": "https://localhost:8080/",
          "height": 269
        }
      },
      "cell_type": "code",
      "source": [
        "plt.imshow(y_pred[20][:,:,0], cmap='gray')\n",
        "plt.show()"
      ],
      "execution_count": 26,
      "outputs": [
        {
          "output_type": "display_data",
          "data": {
            "image/png": "[encoded data removed]",
            "text/plain": [
              "<Figure size 432x288 with 1 Axes>"
            ]
          },
          "metadata": {
            "tags": []
          }
        }
      ]
    },
    {
      "metadata": {
        "colab_type": "code",
        "id": "isCQ_Cxpehpj",
        "outputId": "df244a0d-0b90-4c79-8e90-f8688265e891",
        "colab": {
          "base_uri": "https://localhost:8080/",
          "height": 34
        }
      },
      "cell_type": "code",
      "source": [
        "# Dice coefficient on this example\n",
        "K.get_value(dice_coef(y_true[20], y_pred[20]))"
      ],
      "execution_count": 27,
      "outputs": [
        {
          "output_type": "execute_result",
          "data": {
            "text/plain": [
              "0.7129027"
            ]
          },
          "metadata": {
            "tags": []
          },
          "execution_count": 27
        }
      ]
    },
    {
      "metadata": {
        "colab_type": "text",
        "id": "Z9PebgnFu3Yu"
      },
      "cell_type": "markdown",
      "source": [
        "Data augmentation techniques almost always help in improving the performance of deep learning models.\n",
        "\n",
        "\n",
        "Try beating the result obtained above by doing some kind of data augmentation and leave the code/results in the jupyter file.\n",
        "\n",
        "Provide the dice coefficient obtained on the new model trained with data augmentation.\n",
        "\n",
        "---\n",
        "\n",
        "# Experimentation Zone\n",
        "You may write any custom code here. The data augmentation part will be evaluated from this region."
      ]
    },
    {
      "metadata": {
        "colab_type": "code",
        "id": "mFL6rvc4yUPp",
        "colab": {}
      },
      "cell_type": "code",
      "source": [
        ""
      ],
      "execution_count": 0,
      "outputs": []
    }
  ]
}